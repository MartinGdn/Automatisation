{
 "cells": [
  {
   "cell_type": "code",
   "execution_count": 7,
   "metadata": {},
   "outputs": [],
   "source": [
    "import pandas as pd\n",
    "import numpy as np\n",
    "\n",
    "liste = [\n",
    "    [\"Austria\", 39400, 21078, \"euro\", \"wave_one\"],\n",
    "    [\"Cyprus\", 20800, 15953, \"euro\", \"wave_two\"],\n",
    "    [\"Denmark\", 47800, 22084, \"non_euro\", \"wave_one\"],\n",
    "    [\"France\", 32800, 17473, \"euro\", \"wave_one\"],\n",
    "    [\"Germany\", 37100, 18931, \"euro\", \"wave_one\"],\n",
    "    [\"Italy\", 27100, 16613, \"euro\", \"wave_one\"],\n",
    "    [\"Lithuania\", 12900, 8071, \"euro\", \"wave_two\"],\n",
    "    [\"Poland\", 11200, 6529, \"non_euro\", \"wave_two\"],\n",
    "    [\"Romania\", 8100, 4859, \"non_euro\", \"wave_three\"],\n",
    "    [\"Slovenia\", 18700, 10403, \"euro\", \"wave_two\"],\n",
    "    [\"Spain\", 23200, 13827, \"euro\", \"wave_one\"],\n",
    "    [\"Sweden\", 45600, 20014, \"non_euro\", \"wave_one\"]\n",
    "]\n",
    "\n",
    "df = pd.DataFrame(liste, columns = [\"country\", \"gdp_per_capita\", \"consumption_per_capita\", \"currency\", \"enlargment\"])"
   ]
  },
  {
   "cell_type": "code",
   "execution_count": 16,
   "metadata": {},
   "outputs": [],
   "source": [
    "df.to_csv('exercise.csv', index = False)\n",
    "df.to_excel('exercise.xlsx', index = False)"
   ]
  },
  {
   "cell_type": "code",
   "execution_count": 20,
   "metadata": {},
   "outputs": [
    {
     "data": {
      "text/html": [
       "<div>\n",
       "<style scoped>\n",
       "    .dataframe tbody tr th:only-of-type {\n",
       "        vertical-align: middle;\n",
       "    }\n",
       "\n",
       "    .dataframe tbody tr th {\n",
       "        vertical-align: top;\n",
       "    }\n",
       "\n",
       "    .dataframe thead th {\n",
       "        text-align: right;\n",
       "    }\n",
       "</style>\n",
       "<table border=\"1\" class=\"dataframe\">\n",
       "  <thead>\n",
       "    <tr style=\"text-align: right;\">\n",
       "      <th></th>\n",
       "      <th>country</th>\n",
       "      <th>gdp_per_capita</th>\n",
       "      <th>consumption_per_capita</th>\n",
       "      <th>currency</th>\n",
       "      <th>enlargment</th>\n",
       "    </tr>\n",
       "  </thead>\n",
       "  <tbody>\n",
       "    <tr>\n",
       "      <th>0</th>\n",
       "      <td>Austria</td>\n",
       "      <td>39400</td>\n",
       "      <td>21078</td>\n",
       "      <td>euro</td>\n",
       "      <td>wave_one</td>\n",
       "    </tr>\n",
       "    <tr>\n",
       "      <th>1</th>\n",
       "      <td>Cyprus</td>\n",
       "      <td>20800</td>\n",
       "      <td>15953</td>\n",
       "      <td>euro</td>\n",
       "      <td>wave_two</td>\n",
       "    </tr>\n",
       "    <tr>\n",
       "      <th>3</th>\n",
       "      <td>France</td>\n",
       "      <td>32800</td>\n",
       "      <td>17473</td>\n",
       "      <td>euro</td>\n",
       "      <td>wave_one</td>\n",
       "    </tr>\n",
       "    <tr>\n",
       "      <th>4</th>\n",
       "      <td>Germany</td>\n",
       "      <td>37100</td>\n",
       "      <td>18931</td>\n",
       "      <td>euro</td>\n",
       "      <td>wave_one</td>\n",
       "    </tr>\n",
       "    <tr>\n",
       "      <th>5</th>\n",
       "      <td>Italy</td>\n",
       "      <td>27100</td>\n",
       "      <td>16613</td>\n",
       "      <td>euro</td>\n",
       "      <td>wave_one</td>\n",
       "    </tr>\n",
       "    <tr>\n",
       "      <th>6</th>\n",
       "      <td>Lithuania</td>\n",
       "      <td>12900</td>\n",
       "      <td>8071</td>\n",
       "      <td>euro</td>\n",
       "      <td>wave_two</td>\n",
       "    </tr>\n",
       "    <tr>\n",
       "      <th>9</th>\n",
       "      <td>Slovenia</td>\n",
       "      <td>18700</td>\n",
       "      <td>10403</td>\n",
       "      <td>euro</td>\n",
       "      <td>wave_two</td>\n",
       "    </tr>\n",
       "    <tr>\n",
       "      <th>10</th>\n",
       "      <td>Spain</td>\n",
       "      <td>23200</td>\n",
       "      <td>13827</td>\n",
       "      <td>euro</td>\n",
       "      <td>wave_one</td>\n",
       "    </tr>\n",
       "  </tbody>\n",
       "</table>\n",
       "</div>"
      ],
      "text/plain": [
       "      country  gdp_per_capita  consumption_per_capita currency enlargment\n",
       "0     Austria           39400                   21078     euro   wave_one\n",
       "1      Cyprus           20800                   15953     euro   wave_two\n",
       "3      France           32800                   17473     euro   wave_one\n",
       "4     Germany           37100                   18931     euro   wave_one\n",
       "5       Italy           27100                   16613     euro   wave_one\n",
       "6   Lithuania           12900                    8071     euro   wave_two\n",
       "9    Slovenia           18700                   10403     euro   wave_two\n",
       "10      Spain           23200                   13827     euro   wave_one"
      ]
     },
     "execution_count": 20,
     "metadata": {},
     "output_type": "execute_result"
    }
   ],
   "source": [
    "filtre_euros = df['currency']==\"euro\"\n",
    "country_euros = df[filtre_euros]\n",
    "country_euros"
   ]
  },
  {
   "cell_type": "code",
   "execution_count": 22,
   "metadata": {},
   "outputs": [
    {
     "data": {
      "text/html": [
       "<div>\n",
       "<style scoped>\n",
       "    .dataframe tbody tr th:only-of-type {\n",
       "        vertical-align: middle;\n",
       "    }\n",
       "\n",
       "    .dataframe tbody tr th {\n",
       "        vertical-align: top;\n",
       "    }\n",
       "\n",
       "    .dataframe thead th {\n",
       "        text-align: right;\n",
       "    }\n",
       "</style>\n",
       "<table border=\"1\" class=\"dataframe\">\n",
       "  <thead>\n",
       "    <tr style=\"text-align: right;\">\n",
       "      <th></th>\n",
       "      <th>country</th>\n",
       "      <th>gdp_per_capita</th>\n",
       "      <th>consumption_per_capita</th>\n",
       "      <th>currency</th>\n",
       "      <th>enlargment</th>\n",
       "    </tr>\n",
       "  </thead>\n",
       "  <tbody>\n",
       "    <tr>\n",
       "      <th>1</th>\n",
       "      <td>Cyprus</td>\n",
       "      <td>20800</td>\n",
       "      <td>15953</td>\n",
       "      <td>euro</td>\n",
       "      <td>wave_two</td>\n",
       "    </tr>\n",
       "    <tr>\n",
       "      <th>6</th>\n",
       "      <td>Lithuania</td>\n",
       "      <td>12900</td>\n",
       "      <td>8071</td>\n",
       "      <td>euro</td>\n",
       "      <td>wave_two</td>\n",
       "    </tr>\n",
       "    <tr>\n",
       "      <th>9</th>\n",
       "      <td>Slovenia</td>\n",
       "      <td>18700</td>\n",
       "      <td>10403</td>\n",
       "      <td>euro</td>\n",
       "      <td>wave_two</td>\n",
       "    </tr>\n",
       "  </tbody>\n",
       "</table>\n",
       "</div>"
      ],
      "text/plain": [
       "     country  gdp_per_capita  consumption_per_capita currency enlargment\n",
       "1     Cyprus           20800                   15953     euro   wave_two\n",
       "6  Lithuania           12900                    8071     euro   wave_two\n",
       "9   Slovenia           18700                   10403     euro   wave_two"
      ]
     },
     "execution_count": 22,
     "metadata": {},
     "output_type": "execute_result"
    }
   ],
   "source": [
    "filtre_wave_two = country_euros['enlargment'] == \"wave_two\"\n",
    "country_euros_wave_two = country_euros[filtre_wave_two]\n",
    "country_euros_wave_two"
   ]
  },
  {
   "cell_type": "code",
   "execution_count": 24,
   "metadata": {},
   "outputs": [],
   "source": [
    "filtre_big_gdp = df['gdp_per_capita'] > 15000\n",
    "big_gdp = df[filtre_big_gdp]\n",
    "big_gdp.to_csv('big_gdp.csv', index = False)"
   ]
  },
  {
   "cell_type": "code",
   "execution_count": 33,
   "metadata": {},
   "outputs": [
    {
     "data": {
      "text/plain": [
       "8    Romania\n",
       "Name: country, dtype: object"
      ]
     },
     "execution_count": 33,
     "metadata": {},
     "output_type": "execute_result"
    }
   ],
   "source": [
    "filtre_min_cpc = df['consumption_per_capita'] == min(df['consumption_per_capita'])\n",
    "min_cpc = df[filtre_min_cpc]\n",
    "min_cpc['country']"
   ]
  },
  {
   "cell_type": "code",
   "execution_count": 34,
   "metadata": {},
   "outputs": [],
   "source": [
    "def country_max_gdp(df):\n",
    "    filtre_max_gdp = df['gdp_per_capita'] == max(df['gdp_per_capita'])\n",
    "    max_gdp = df[filtre_max_gdp]\n",
    "    return max_gdp['country']"
   ]
  },
  {
   "cell_type": "code",
   "execution_count": 35,
   "metadata": {},
   "outputs": [
    {
     "data": {
      "text/plain": [
       "2    Denmark\n",
       "Name: country, dtype: object"
      ]
     },
     "execution_count": 35,
     "metadata": {},
     "output_type": "execute_result"
    }
   ],
   "source": [
    "country_max_gdp(df)"
   ]
  },
  {
   "cell_type": "code",
   "execution_count": null,
   "metadata": {},
   "outputs": [],
   "source": []
  }
 ],
 "metadata": {
  "kernelspec": {
   "display_name": "Python 3",
   "language": "python",
   "name": "python3"
  },
  "language_info": {
   "codemirror_mode": {
    "name": "ipython",
    "version": 3
   },
   "file_extension": ".py",
   "mimetype": "text/x-python",
   "name": "python",
   "nbconvert_exporter": "python",
   "pygments_lexer": "ipython3",
   "version": "3.8.5"
  }
 },
 "nbformat": 4,
 "nbformat_minor": 4
}
